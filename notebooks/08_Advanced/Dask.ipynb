{
 "cells": [
  {
   "cell_type": "code",
   "execution_count": 1,
   "metadata": {},
   "outputs": [],
   "source": [
    "#!wget -c ftp://ngs.sanger.ac.uk/production/ag1000g/phase1/AR3/variation/main/hdf5/ag1000g.phase1.ar3.pass.3L.h5\n"
   ]
  },
  {
   "cell_type": "code",
   "execution_count": 1,
   "metadata": {},
   "outputs": [
    {
     "name": "stderr",
     "output_type": "stream",
     "text": [
      "/home/tra/anaconda3/lib/python3.6/site-packages/h5py/__init__.py:36: FutureWarning: Conversion of the second argument of issubdtype from `float` to `np.floating` is deprecated. In future, it will be treated as `np.float64 == np.dtype(float).type`.\n",
      "  from ._conv import register_converters as _register_converters\n"
     ]
    },
    {
     "data": {
      "text/plain": [
       "'0.19.2'"
      ]
     },
     "execution_count": 1,
     "metadata": {},
     "output_type": "execute_result"
    }
   ],
   "source": [
    "from multiprocessing.pool import Pool\n",
    "from math import ceil\n",
    "\n",
    "import numpy as np\n",
    "\n",
    "import h5py\n",
    "\n",
    "import dask\n",
    "import dask.array as da\n",
    "import dask.multiprocessing\n",
    "dask.__version__"
   ]
  },
  {
   "cell_type": "code",
   "execution_count": 2,
   "metadata": {},
   "outputs": [],
   "source": [
    "h5_3L = h5py.File('ag1000g.phase1.ar3.pass.3L.h5', 'r')\n",
    "samples = h5_3L['/3L/samples']\n",
    "positions = h5_3L['/3L/variants/POS']\n",
    "num_samples = len(samples)\n",
    "del samples"
   ]
  },
  {
   "cell_type": "code",
   "execution_count": 3,
   "metadata": {},
   "outputs": [],
   "source": [
    "window_size = 50000\n",
    "last_position = positions[-1]\n",
    "num_windows = ceil(last_position / window_size)\n",
    "limits = np.full((num_windows, 2), -1)\n",
    "curr_window = positions[0] // window_size\n",
    "limits[curr_window][0] = 0\n",
    "for index, position in enumerate(positions):\n",
    "    my_window = position // window_size\n",
    "    if index % 1000000 == 0:\n",
    "        print(index, position)\n",
    "    if my_window != curr_window:\n",
    "        limits[my_window, 0] = index\n",
    "        limits[curr_window, 1] = index - 1\n",
    "        curr_window = my_window\n",
    "limits[num_windows - 1, 1] = len(positions)"
   ]
  },
  {
   "cell_type": "code",
   "execution_count": 9,
   "metadata": {},
   "outputs": [],
   "source": [
    "limits = da.from_array(limits, chunks=(60, 2))"
   ]
  },
  {
   "cell_type": "code",
   "execution_count": 10,
   "metadata": {},
   "outputs": [
    {
     "data": {
      "text/plain": [
       "(dask.array<getitem, shape=(2,), dtype=int64, chunksize=(2,)>,\n",
       " dask.array<getitem, shape=(2,), dtype=int64, chunksize=(2,)>)"
      ]
     },
     "execution_count": 10,
     "metadata": {},
     "output_type": "execute_result"
    }
   ],
   "source": [
    "limits[0], limits[-1]"
   ]
  },
  {
   "cell_type": "code",
   "execution_count": 11,
   "metadata": {},
   "outputs": [
    {
     "data": {
      "text/plain": [
       "(839, 840)"
      ]
     },
     "execution_count": 11,
     "metadata": {},
     "output_type": "execute_result"
    }
   ],
   "source": [
    "positions[-1] // window_size, num_windows"
   ]
  },
  {
   "cell_type": "code",
   "execution_count": 12,
   "metadata": {},
   "outputs": [],
   "source": [
    "h5_3L.close()\n",
    "del h5_3L, positions"
   ]
  },
  {
   "cell_type": "code",
   "execution_count": 15,
   "metadata": {},
   "outputs": [],
   "source": [
    "def get_hdf5():\n",
    "    global calldata_genotype, alt_alleles, is_snp, num_samples\n",
    "    \n",
    "    try:\n",
    "        calldata_genotype\n",
    "    except NameError:\n",
    "        import os\n",
    "        print('Open', os.getpid())\n",
    "        h5_3L = h5py.File('ag1000g.phase1.ar3.pass.3L.h5', 'r')\n",
    "        samples = h5_3L['/3L/samples']\n",
    "        calldata_genotype = h5_3L['/3L/calldata/genotype']\n",
    "        alt_alleles = h5_3L['/3L/variants/ALT']\n",
    "        is_snp = h5_3L['/3L/variants/is_snp']\n",
    "    \n",
    "    return calldata_genotype, is_snp, alt_alleles, num_samples\n",
    "    \n",
    "@da.as_gufunc(signature=\"(i)->()\", output_dtypes=dict, vectorize=True)\n",
    "def calc_statistics(v):\n",
    "    calldata_genotype, is_snp, alt_alleles, num_samples = get_hdf5()\n",
    "    start, end = v[0], v[1]\n",
    "    min_maf = 0.5\n",
    "    max_maf = 0.0\n",
    "    non_bi = 0\n",
    "    missing = 0\n",
    "    non_snp = 0\n",
    "    print(v)\n",
    "    for pos in range(start, end + 1):\n",
    "        if not is_snp[pos]:\n",
    "            non_snp += 1\n",
    "            continue\n",
    "        if np.max(calldata_genotype[pos]) > 1:  \n",
    "               non_bi += 1\n",
    "               continue\n",
    "        if np.min(calldata_genotype[pos]) < 0:  \n",
    "               missing += 1\n",
    "               continue\n",
    "        num_alt = np.sum(calldata_genotype[pos])  # Because they are coded as 1\n",
    "        num_ref = num_samples * 2 - num_alt  # (because all are called)\n",
    "        min_called = min(num_ref, num_alt)\n",
    "        maf = min_called / (2 * num_samples)\n",
    "        if maf < min_maf:\n",
    "            min_maf = maf\n",
    "        if maf > max_maf:\n",
    "            max_maf = maf\n",
    "    return {'total': end - start + 1, 'missing': missing,\n",
    "            'non_snp': non_snp, 'non_bi': non_bi,\n",
    "            'min_maf': min_maf, 'max_maf': max_maf}"
   ]
  },
  {
   "cell_type": "code",
   "execution_count": 16,
   "metadata": {
    "scrolled": false
   },
   "outputs": [
    {
     "name": "stdout",
     "output_type": "stream",
     "text": [
      "Open 3379\n",
      "[ 0 43]\n",
      "[ 44 965]\n",
      "[ 966 1912]\n",
      "[1913 3420]\n",
      "[3421 3436]\n",
      "[3437 3803]\n",
      "[3804 5038]\n",
      "[5039 6608]\n",
      "[6609 6801]\n",
      "[6802 7056]\n"
     ]
    }
   ],
   "source": [
    "#XXX num_tasks?\n",
    "stats = None\n",
    "with dask.config.set(scheduler='multiprocessing'):\n",
    "    stats = calc_statistics(limits[:10]).compute()\n"
   ]
  },
  {
   "cell_type": "code",
   "execution_count": 17,
   "metadata": {},
   "outputs": [
    {
     "data": {
      "text/plain": [
       "0"
      ]
     },
     "execution_count": 17,
     "metadata": {},
     "output_type": "execute_result"
    }
   ],
   "source": [
    "limits[0,0].compute()"
   ]
  },
  {
   "cell_type": "code",
   "execution_count": 18,
   "metadata": {},
   "outputs": [
    {
     "data": {
      "text/plain": [
       "dask.array<getitem, shape=(2,), dtype=int64, chunksize=(2,)>"
      ]
     },
     "execution_count": 18,
     "metadata": {},
     "output_type": "execute_result"
    }
   ],
   "source": [
    "limits[0]"
   ]
  },
  {
   "cell_type": "code",
   "execution_count": 19,
   "metadata": {},
   "outputs": [],
   "source": [
    "#persist"
   ]
  },
  {
   "cell_type": "code",
   "execution_count": 20,
   "metadata": {},
   "outputs": [
    {
     "data": {
      "text/plain": [
       "array([{'total': 44, 'missing': 3, 'non_snp': 0, 'non_bi': 4, 'min_maf': 0.00065359477124183, 'max_maf': 0.0196078431372549},\n",
       "       {'total': 922, 'missing': 153, 'non_snp': 0, 'non_bi': 32, 'min_maf': 0.00065359477124183, 'max_maf': 0.4869281045751634},\n",
       "       {'total': 947, 'missing': 178, 'non_snp': 0, 'non_bi': 37, 'min_maf': 0.00065359477124183, 'max_maf': 0.4516339869281046},\n",
       "       {'total': 1508, 'missing': 77, 'non_snp': 0, 'non_bi': 49, 'min_maf': 0.00065359477124183, 'max_maf': 0.39477124183006534},\n",
       "       {'total': 16, 'missing': 0, 'non_snp': 0, 'non_bi': 2, 'min_maf': 0.00065359477124183, 'max_maf': 0.3235294117647059},\n",
       "       {'total': 367, 'missing': 8, 'non_snp': 0, 'non_bi': 10, 'min_maf': 0.0, 'max_maf': 0.4503267973856209},\n",
       "       {'total': 1235, 'missing': 8, 'non_snp': 0, 'non_bi': 54, 'min_maf': 0.0, 'max_maf': 0.3954248366013072},\n",
       "       {'total': 1570, 'missing': 32, 'non_snp': 0, 'non_bi': 68, 'min_maf': 0.00065359477124183, 'max_maf': 0.3934640522875817},\n",
       "       {'total': 193, 'missing': 0, 'non_snp': 0, 'non_bi': 4, 'min_maf': 0.00065359477124183, 'max_maf': 0.2549019607843137},\n",
       "       {'total': 255, 'missing': 39, 'non_snp': 0, 'non_bi': 16, 'min_maf': 0.00065359477124183, 'max_maf': 0.4117647058823529}],\n",
       "      dtype=object)"
      ]
     },
     "execution_count": 20,
     "metadata": {},
     "output_type": "execute_result"
    }
   ],
   "source": [
    "stats"
   ]
  },
  {
   "cell_type": "code",
   "execution_count": null,
   "metadata": {},
   "outputs": [],
   "source": [
    "\n",
    "#dask.config.set(scheduler='synchronous')\n",
    "#dask.config.set(scheduler='threads')\n"
   ]
  }
 ],
 "metadata": {
  "kernelspec": {
   "display_name": "Python 3",
   "language": "python",
   "name": "python3"
  },
  "language_info": {
   "codemirror_mode": {
    "name": "ipython",
    "version": 3
   },
   "file_extension": ".py",
   "mimetype": "text/x-python",
   "name": "python",
   "nbconvert_exporter": "python",
   "pygments_lexer": "ipython3",
   "version": "3.6.5"
  }
 },
 "nbformat": 4,
 "nbformat_minor": 2
}
