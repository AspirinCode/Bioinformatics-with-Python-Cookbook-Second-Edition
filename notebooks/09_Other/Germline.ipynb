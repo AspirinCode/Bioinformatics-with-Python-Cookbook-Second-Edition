{
 "cells": [
  {
   "cell_type": "code",
   "execution_count": 1,
   "metadata": {},
   "outputs": [],
   "source": [
    "#ftp://ftp.1000genomes.ebi.ac.uk/vol1/ftp/phase1/analysis_results/shapeit2_phased_haplotypes/\n",
    "\n",
    "##/qctool -g ALL.chr21.SHAPEIT2_integrated_phase1_v3.20101123.snps_indels_svs.genotypes.all.vcf.gz -og 21.haps -ofiletype shapeit_haplotypes -os 21.sample\n",
    "\n",
    "#https://mathgen.stats.ox.ac.uk/impute/scripts/vcf2impute_legend_haps\n",
    "#perl vcf2impute_legend_haps -vcf ALL.chr21.SHAPEIT2_integrated_phase1_v3.20101123.snps_indels_svs.genotypes.all.vcf.gz -leghap 21 -chr 21 -snps_only\n",
    "#python merge.py 21.hap.gz 21.legend.gz 21 > 21.merge\n",
    "#python clean_sample.py < 21.sample_list > 21.sample\n",
    "##maintain_snps.py < 21.haps > 21-snps.haps \n",
    "##impute_to_ped  snps.haps output.SHAPEIT.20140226.chr21.wgs_sites.haps.sample conv\n",
    "#impute_to_ped  21.merge 21.sample g21\n",
    "#germline  -input g21.ped 21.map -output good"
   ]
  }
 ],
 "metadata": {
  "kernelspec": {
   "display_name": "Python 3",
   "language": "python",
   "name": "python3"
  },
  "language_info": {
   "codemirror_mode": {
    "name": "ipython",
    "version": 3
   },
   "file_extension": ".py",
   "mimetype": "text/x-python",
   "name": "python",
   "nbconvert_exporter": "python",
   "pygments_lexer": "ipython3",
   "version": "3.5.5"
  }
 },
 "nbformat": 4,
 "nbformat_minor": 2
}
