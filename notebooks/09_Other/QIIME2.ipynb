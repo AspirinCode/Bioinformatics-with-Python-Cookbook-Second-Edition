{
 "cells": [
  {
   "cell_type": "markdown",
   "metadata": {},
   "source": [
    "# Important: Read this!\n",
    "\n",
    "This recipe does not work with the standard conda environment.\n",
    "\n",
    "If you are in the standard environment, do this:\n",
    "\n",
    "1. Stop Jupyter\n",
    "2. Activate QIIME2 environment on conda\n",
    "3. Do `jupyter serverextension enable --py qiime2 --sys-prefix`\n",
    "4. Start Jupyter inside QIIME2 environment\n",
    "\n",
    "Note that other recipes will not work inside this environment. "
   ]
  },
  {
   "cell_type": "markdown",
   "metadata": {},
   "source": [
    "# Getting the data"
   ]
  },
  {
   "cell_type": "code",
   "execution_count": 1,
   "metadata": {},
   "outputs": [
    {
     "name": "stdout",
     "output_type": "stream",
     "text": [
      "--2018-09-07 21:32:17--  https://data.qiime2.org/2018.6/tutorials/moving-pictures/sample_metadata.tsv\n",
      "Resolving data.qiime2.org... 104.27.171.158, 104.27.170.158\n",
      "Connecting to data.qiime2.org|104.27.171.158|:443... connected.\n",
      "HTTP request sent, awaiting response... 302 FOUND\n",
      "Location: https://docs.google.com/spreadsheets/d/14q7ScySUpJqUDHbbSLkPXSTHd337dYuaQxWMsZJzSVo/export?gid=0&format=tsv [following]\n",
      "--2018-09-07 21:32:18--  https://docs.google.com/spreadsheets/d/14q7ScySUpJqUDHbbSLkPXSTHd337dYuaQxWMsZJzSVo/export?gid=0&format=tsv\n",
      "Resolving docs.google.com... 64.233.185.113, 64.233.185.100, 64.233.185.139, ...\n",
      "Connecting to docs.google.com|64.233.185.113|:443... connected.\n",
      "HTTP request sent, awaiting response... 200 OK\n",
      "Length: unspecified [text/tab-separated-values]\n",
      "Saving to: ‘sample-metadata.tsv’\n",
      "\n",
      "sample-metadata.tsv     [ <=>                ]   3.70K  --.-KB/s    in 0.02s   \n",
      "\n",
      "2018-09-07 21:32:19 (220 KB/s) - ‘sample-metadata.tsv’ saved [3785]\n",
      "\n",
      "--2018-09-07 21:32:19--  https://data.qiime2.org/2018.6/tutorials/moving-pictures/emp-single-end-sequences/barcodes.fastq.gz\n",
      "Resolving data.qiime2.org... 104.27.171.158, 104.27.170.158\n",
      "Connecting to data.qiime2.org|104.27.171.158|:443... connected.\n",
      "HTTP request sent, awaiting response... 302 FOUND\n",
      "Location: https://s3-us-west-2.amazonaws.com/qiime2-data/2018.6/tutorials/moving-pictures/emp-single-end-sequences/barcodes.fastq.gz [following]\n",
      "--2018-09-07 21:32:20--  https://s3-us-west-2.amazonaws.com/qiime2-data/2018.6/tutorials/moving-pictures/emp-single-end-sequences/barcodes.fastq.gz\n",
      "Resolving s3-us-west-2.amazonaws.com... 52.218.209.232\n",
      "Connecting to s3-us-west-2.amazonaws.com|52.218.209.232|:443... connected.\n",
      "HTTP request sent, awaiting response... 200 OK\n",
      "Length: 3783785 (3.6M) [application/x-gzip]\n",
      "Saving to: ‘data/barcodes.fastq.gz’\n",
      "\n",
      "data/barcodes.fastq 100%[===================>]   3.61M  1.21MB/s    in 3.0s    \n",
      "\n",
      "2018-09-07 21:32:24 (1.21 MB/s) - ‘data/barcodes.fastq.gz’ saved [3783785/3783785]\n",
      "\n",
      "--2018-09-07 21:32:24--  https://data.qiime2.org/2018.6/tutorials/moving-pictures/emp-single-end-sequences/sequences.fastq.gz\n",
      "Resolving data.qiime2.org... 104.27.171.158, 104.27.170.158\n",
      "Connecting to data.qiime2.org|104.27.171.158|:443... connected.\n",
      "HTTP request sent, awaiting response... 302 FOUND\n",
      "Location: https://s3-us-west-2.amazonaws.com/qiime2-data/2018.6/tutorials/moving-pictures/emp-single-end-sequences/sequences.fastq.gz [following]\n",
      "--2018-09-07 21:32:24--  https://s3-us-west-2.amazonaws.com/qiime2-data/2018.6/tutorials/moving-pictures/emp-single-end-sequences/sequences.fastq.gz\n",
      "Resolving s3-us-west-2.amazonaws.com... 52.218.209.232\n",
      "Connecting to s3-us-west-2.amazonaws.com|52.218.209.232|:443... connected.\n",
      "HTTP request sent, awaiting response... 200 OK\n",
      "Length: 25303756 (24M) [binary/octet-stream]\n",
      "Saving to: ‘data/sequences.fastq.gz’\n",
      "\n",
      "data/sequences.fast 100%[===================>]  24.13M  1.46MB/s    in 19s     \n",
      "\n",
      "2018-09-07 21:32:44 (1.30 MB/s) - ‘data/sequences.fastq.gz’ saved [25303756/25303756]\n",
      "\n"
     ]
    }
   ],
   "source": [
    "!rm -rf data\n",
    "!mkdir data\n",
    "\n",
    "!wget -O \"sample-metadata.tsv\" \"https://data.qiime2.org/2018.6/tutorials/moving-pictures/sample_metadata.tsv\"\n",
    "\n",
    "!wget -O \"data/barcodes.fastq.gz\" \"https://data.qiime2.org/2018.6/tutorials/moving-pictures/emp-single-end-sequences/barcodes.fastq.gz\"\n",
    "\n",
    "!wget -O \"data/sequences.fastq.gz\" \"https://data.qiime2.org/2018.6/tutorials/moving-pictures/emp-single-end-sequences/sequences.fastq.gz\""
   ]
  },
  {
   "cell_type": "markdown",
   "metadata": {},
   "source": [
    "# The recipe"
   ]
  },
  {
   "cell_type": "code",
   "execution_count": 2,
   "metadata": {},
   "outputs": [],
   "source": [
    "import pandas as pd\n",
    "\n",
    "from qiime2.metadata.metadata import Metadata\n",
    "from qiime2.metadata.metadata import CategoricalMetadataColumn\n",
    "from qiime2.sdk import Artifact\n",
    "from qiime2.sdk import PluginManager\n",
    "from qiime2.sdk import Result"
   ]
  },
  {
   "cell_type": "code",
   "execution_count": 3,
   "metadata": {},
   "outputs": [],
   "source": [
    "#After convert\n",
    "pm = PluginManager()\n",
    "#print(pm.plugins)\n",
    "demux_plugin = pm.plugins['demux']\n",
    "demux_emp_single = demux_plugin.actions['emp_single']\n",
    "demux_summarize = demux_plugin.actions['summarize']"
   ]
  },
  {
   "cell_type": "code",
   "execution_count": 4,
   "metadata": {},
   "outputs": [
    {
     "name": "stdout",
     "output_type": "stream",
     "text": [
      "Demultiplex sequence data (i.e., map barcode reads to sample ids) for data generated with the Earth Microbiome Project (EMP) amplicon sequencing protocol. Details about this protocol can be found at http://www.earthmicrobiome.org/protocols-and-standards/\n",
      "OrderedDict([('seqs', ParameterSpec(qiime_type=EMPPairedEndSequences | EMPSingleEndSequences | RawSequences, view_type=<class 'q2_demux._demux.BarcodeSequenceFastqIterator'>, default=NOVALUE, description='The single-end sequences to be demultiplexed.'))])\n",
      "OrderedDict([('barcodes', ParameterSpec(qiime_type=MetadataColumn[Categorical], view_type=<class 'qiime2.metadata.metadata.CategoricalMetadataColumn'>, default=NOVALUE, description='The sample metadata column containing the per-sample barcodes.')), ('rev_comp_barcodes', ParameterSpec(qiime_type=Bool, view_type=<class 'bool'>, default=False, description='If provided, the barcode sequence reads will be reverse complemented prior to demultiplexing.')), ('rev_comp_mapping_barcodes', ParameterSpec(qiime_type=Bool, view_type=<class 'bool'>, default=False, description='If provided, the barcode sequences in the sample metadata will be reverse complemented prior to demultiplexing.'))])\n",
      "OrderedDict([('per_sample_sequences', ParameterSpec(qiime_type=SampleData[SequencesWithQuality], view_type=<class 'q2_types.per_sample_sequences._format.SingleLanePerSampleSingleEndFastqDirFmt'>, default=NOVALUE, description='The resulting demultiplexed sequences.'))])\n"
     ]
    }
   ],
   "source": [
    "print(demux_emp_single.description)\n",
    "emp_single_signature = demux_emp_single.signature\n",
    "print(emp_single_signature.inputs)\n",
    "print(emp_single_signature.parameters)\n",
    "print(emp_single_signature.outputs)\n",
    "seq_input = emp_single_signature.inputs['seqs']"
   ]
  },
  {
   "cell_type": "code",
   "execution_count": 5,
   "metadata": {},
   "outputs": [
    {
     "data": {
      "text/plain": [
       "'out.qza'"
      ]
     },
     "execution_count": 5,
     "metadata": {},
     "output_type": "execute_result"
    }
   ],
   "source": [
    "#convert\n",
    "data_type = 'EMPSingleEndSequences'\n",
    "conv = Artifact.import_data(data_type, 'data')\n",
    "conv.save('out.qza')"
   ]
  },
  {
   "cell_type": "code",
   "execution_count": 6,
   "metadata": {},
   "outputs": [
    {
     "data": {
      "text/plain": [
       "'demux.qza'"
      ]
     },
     "execution_count": 6,
     "metadata": {},
     "output_type": "execute_result"
    }
   ],
   "source": [
    "#demux\n",
    "seqs = Result.load('out.qza')\n",
    "metadata = Metadata.load('sample-metadata.tsv')\n",
    "metadata_df = metadata.to_dataframe()\n",
    "demux = demux_emp_single(seqs, CategoricalMetadataColumn(metadata_df['BarcodeSequence']))\n",
    "\n",
    "demux.per_sample_sequences.save('demux.qza')"
   ]
  },
  {
   "cell_type": "code",
   "execution_count": 7,
   "metadata": {},
   "outputs": [
    {
     "name": "stdout",
     "output_type": "stream",
     "text": [
      "['__add__', '__class__', '__contains__', '__delattr__', '__dict__', '__dir__', '__doc__', '__eq__', '__format__', '__ge__', '__getattribute__', '__getitem__', '__getnewargs__', '__gt__', '__hash__', '__init__', '__iter__', '__le__', '__len__', '__lt__', '__module__', '__mul__', '__ne__', '__new__', '__reduce__', '__reduce_ex__', '__repr__', '__rmul__', '__setattr__', '__sizeof__', '__str__', '__subclasshook__', '_fields', 'count', 'index', 'visualization']\n",
      "<class 'qiime2.sdk.result.Visualization'>\n",
      "['__class__', '__delattr__', '__dict__', '__dir__', '__doc__', '__eq__', '__format__', '__ge__', '__getattribute__', '__gt__', '__hash__', '__init__', '__le__', '__lt__', '__module__', '__ne__', '__new__', '__reduce__', '__reduce_ex__', '__repr__', '__setattr__', '__sizeof__', '__str__', '__subclasshook__', '__weakref__', '_alias', '_archiver', '_destructor', '_from_data_dir', '_is_valid_type', '_repr_html_', 'citations', 'export_data', 'extension', 'extract', 'format', 'get_index_paths', 'load', 'peek', 'save', 'type', 'uuid']\n"
     ]
    },
    {
     "data": {
      "text/html": [
       "<div><img onload=\"(function(div, url){\n",
       "if (typeof require !== 'undefined') {\n",
       "    var baseURL = require.toUrl('').split('/').slice(0, -2).join('/');\n",
       "} else {\n",
       "    var baseURL = JSON.parse(\n",
       "        document.getElementById('jupyter-config-data').innerHTML\n",
       "    ).baseUrl.slice(0, -1);\n",
       "}\n",
       "url = baseURL + url;\n",
       "fetch(url).then(function(res) {\n",
       "    if (res.status === 404) {\n",
       "        div.innerHTML = 'Install QIIME 2 Jupyter extension with:<br />' +\n",
       "                        '<code>jupyter serverextension enable --py qiime2' +\n",
       "                        ' --sys-prefix</code><br />then restart your server.' +\n",
       "                        '<br /><br />(Interactive output not available on ' +\n",
       "                        'static notebook viewer services like nbviewer.)';\n",
       "    } else if (res.status === 409) {\n",
       "        div.innerHTML = 'Visualization no longer in scope. Re-run this cell' +\n",
       "                        ' to see the visualization.';\n",
       "    } else if (res.ok) {\n",
       "        url = res.url;\n",
       "        div.innerHTML = '<iframe src=\\'' + url + '\\' style=\\'' +\n",
       "                        'width: 100%; height: 700px; border: 0;\\'>' +\n",
       "                        '</iframe><hr />Open in a: <a href=\\'' + url + '\\'' +\n",
       "                        ' target=\\'_blank\\'>new window</a>'\n",
       "    } else {\n",
       "        div.innerHTML = 'Something has gone wrong. Check notebook server for' +\n",
       "                        ' errors.';\n",
       "    }\n",
       "});\n",
       "})(this.parentElement, '/qiime2/redirect?location=/tmp/qiime2-archive-c92wt9f_')\" src=\"data:image/gif;base64,R0lGODlhAQABAIAAAP///wAAACH5BAEAAAAALAAAAAABAAEAAAICRAEAOw==\" /></div>"
      ],
      "text/plain": [
       "<visualization: Visualization uuid: 1ae76e7b-a893-40d8-a886-be6d62f7adc5>"
      ]
     },
     "execution_count": 7,
     "metadata": {},
     "output_type": "execute_result"
    }
   ],
   "source": [
    "sum_data = demux_summarize(demux.per_sample_sequences)\n",
    "\n",
    "print(dir(sum_data))\n",
    "print(type(sum_data.visualization))\n",
    "print(dir(sum_data.visualization))\n",
    "sum_data.visualization"
   ]
  },
  {
   "cell_type": "code",
   "execution_count": 8,
   "metadata": {},
   "outputs": [
    {
     "name": "stdout",
     "output_type": "stream",
     "text": [
      "Running external command line application(s). This may print messages to stdout and/or stderr.\n",
      "The command(s) being run are below. These commands cannot be manually re-run as they will depend on temporary files that no longer exist.\n",
      "\n",
      "Command: run_dada_single.R /tmp/qiime2-archive-3c4tvb4c/e6c52b18-b637-4bb2-a8b1-7e99cb0b794a/data /tmp/tmpovwabzt8/output.tsv.biom /tmp/tmpovwabzt8/track.tsv /tmp/tmpovwabzt8 120 0 2.0 2 Inf consensus 1.0 1 1000000 NULL 16\n",
      "\n"
     ]
    }
   ],
   "source": [
    "#Quality control\n",
    "dada2_plugin = pm.plugins['dada2']\n",
    "dada2_denoise_single = dada2_plugin.actions['denoise_single']\n",
    "qual_control = dada2_denoise_single(demultiplexed_seqs=demux.per_sample_sequences,\n",
    "                                    trunc_len=120, trim_left=0)"
   ]
  },
  {
   "cell_type": "code",
   "execution_count": 9,
   "metadata": {},
   "outputs": [
    {
     "data": {
      "text/plain": [
       "'table.qza'"
      ]
     },
     "execution_count": 9,
     "metadata": {},
     "output_type": "execute_result"
    }
   ],
   "source": [
    "qual_control.denoising_stats.save('stats-dada2.qza')\n",
    "qual_control.representative_sequences.save('rep-seqs.qza')\n",
    "qual_control.table.save('table.qza')"
   ]
  },
  {
   "cell_type": "code",
   "execution_count": 10,
   "metadata": {},
   "outputs": [
    {
     "data": {
      "text/html": [
       "<div><img onload=\"(function(div, url){\n",
       "if (typeof require !== 'undefined') {\n",
       "    var baseURL = require.toUrl('').split('/').slice(0, -2).join('/');\n",
       "} else {\n",
       "    var baseURL = JSON.parse(\n",
       "        document.getElementById('jupyter-config-data').innerHTML\n",
       "    ).baseUrl.slice(0, -1);\n",
       "}\n",
       "url = baseURL + url;\n",
       "fetch(url).then(function(res) {\n",
       "    if (res.status === 404) {\n",
       "        div.innerHTML = 'Install QIIME 2 Jupyter extension with:<br />' +\n",
       "                        '<code>jupyter serverextension enable --py qiime2' +\n",
       "                        ' --sys-prefix</code><br />then restart your server.' +\n",
       "                        '<br /><br />(Interactive output not available on ' +\n",
       "                        'static notebook viewer services like nbviewer.)';\n",
       "    } else if (res.status === 409) {\n",
       "        div.innerHTML = 'Visualization no longer in scope. Re-run this cell' +\n",
       "                        ' to see the visualization.';\n",
       "    } else if (res.ok) {\n",
       "        url = res.url;\n",
       "        div.innerHTML = '<iframe src=\\'' + url + '\\' style=\\'' +\n",
       "                        'width: 100%; height: 700px; border: 0;\\'>' +\n",
       "                        '</iframe><hr />Open in a: <a href=\\'' + url + '\\'' +\n",
       "                        ' target=\\'_blank\\'>new window</a>'\n",
       "    } else {\n",
       "        div.innerHTML = 'Something has gone wrong. Check notebook server for' +\n",
       "                        ' errors.';\n",
       "    }\n",
       "});\n",
       "})(this.parentElement, '/qiime2/redirect?location=/tmp/qiime2-archive-9tqr5jj0')\" src=\"data:image/gif;base64,R0lGODlhAQABAIAAAP///wAAACH5BAEAAAAALAAAAAABAAEAAAICRAEAOw==\" /></div>"
      ],
      "text/plain": [
       "<visualization: Visualization uuid: 3056b50f-32de-474e-bc9e-8c9dbb3db4d7>"
      ]
     },
     "execution_count": 10,
     "metadata": {},
     "output_type": "execute_result"
    }
   ],
   "source": [
    "metadata_plugin = pm.plugins['metadata']\n",
    "metadata_tabulate = metadata_plugin.actions['tabulate']\n",
    "stats_meta = metadata_tabulate(input=qual_control.denoising_stats.view(Metadata))\n",
    "stats_meta.visualization"
   ]
  },
  {
   "cell_type": "code",
   "execution_count": 11,
   "metadata": {},
   "outputs": [
    {
     "name": "stdout",
     "output_type": "stream",
     "text": [
      "Running external command line application. This may print messages to stdout and/or stderr.\n",
      "The command being run is below. This command cannot be manually re-run as it will depend on temporary files that no longer exist.\n",
      "\n",
      "Command: mafft --preservecase --inputorder --thread 1 /tmp/qiime2-archive-tpmkm6pw/0ee77895-3c42-4870-b5ef-e40dfcbb45e9/data/dna-sequences.fasta\n",
      "\n",
      "Running external command line application. This may print messages to stdout and/or stderr.\n",
      "The command being run is below. This command cannot be manually re-run as it will depend on temporary files that no longer exist.\n",
      "\n",
      "Command: FastTree -quote -nt /tmp/qiime2-archive-ly0ttq0q/d4108d7d-7b18-40c2-9b27-5d22804d345e/data/aligned-dna-sequences.fasta\n",
      "\n"
     ]
    }
   ],
   "source": [
    "# phylogenetic tree\n",
    "phylogeny_plugin = pm.plugins['phylogeny']\n",
    "phylogeny_align_mafft = phylogeny_plugin.actions['align_to_tree_mafft_fasttree']\n",
    "tree = phylogeny_align_mafft(sequences=qual_control.representative_sequences)"
   ]
  },
  {
   "cell_type": "code",
   "execution_count": 12,
   "metadata": {},
   "outputs": [],
   "source": [
    "tree.tree.export_data(output_dir='.')"
   ]
  },
  {
   "cell_type": "code",
   "execution_count": 13,
   "metadata": {},
   "outputs": [],
   "source": [
    "#Talk about zips"
   ]
  },
  {
   "cell_type": "code",
   "execution_count": 14,
   "metadata": {},
   "outputs": [
    {
     "name": "stderr",
     "output_type": "stream",
     "text": [
      "/home/tiago_antao/anaconda3/envs/qiime2-2018.8/lib/python3.5/site-packages/sklearn/utils/validation.py:475: DataConversionWarning: Data with input dtype float64 was converted to bool by check_pairwise_arrays.\n",
      "  warnings.warn(msg, DataConversionWarning)\n",
      "/home/tiago_antao/anaconda3/envs/qiime2-2018.8/lib/python3.5/site-packages/skbio/stats/ordination/_principal_coordinate_analysis.py:152: RuntimeWarning: The result contains negative eigenvalues. Please compare their magnitude with the magnitude of some of the largest positive eigenvalues. If the negative ones are smaller, it's probably safe to ignore them, but if they are large in magnitude, the results won't be useful. See the Notes section for more details. The smallest eigenvalue is -0.0120894730791837 and the largest is 3.6251052559305768.\n",
      "  RuntimeWarning\n",
      "/home/tiago_antao/anaconda3/envs/qiime2-2018.8/lib/python3.5/site-packages/skbio/stats/ordination/_principal_coordinate_analysis.py:152: RuntimeWarning: The result contains negative eigenvalues. Please compare their magnitude with the magnitude of some of the largest positive eigenvalues. If the negative ones are smaller, it's probably safe to ignore them, but if they are large in magnitude, the results won't be useful. See the Notes section for more details. The smallest eigenvalue is -0.008126457966442503 and the largest is 2.5840116432977576.\n",
      "  RuntimeWarning\n",
      "/home/tiago_antao/anaconda3/envs/qiime2-2018.8/lib/python3.5/site-packages/skbio/stats/ordination/_principal_coordinate_analysis.py:152: RuntimeWarning: The result contains negative eigenvalues. Please compare their magnitude with the magnitude of some of the largest positive eigenvalues. If the negative ones are smaller, it's probably safe to ignore them, but if they are large in magnitude, the results won't be useful. See the Notes section for more details. The smallest eigenvalue is -0.03732422721656025 and the largest is 4.964236725943198.\n",
      "  RuntimeWarning\n"
     ]
    }
   ],
   "source": [
    "# diversity analysis\n",
    "diversity_plugin = pm.plugins['diversity']\n",
    "diversity_core_metrics = diversity_plugin.actions['core_metrics_phylogenetic']\n",
    "core_metrics = diversity_core_metrics(phylogeny=tree.rooted_tree,\n",
    "                                      table=qual_control.table, sampling_depth=1109, metadata=metadata)"
   ]
  },
  {
   "cell_type": "code",
   "execution_count": 15,
   "metadata": {},
   "outputs": [
    {
     "data": {
      "text/html": [
       "<div><img onload=\"(function(div, url){\n",
       "if (typeof require !== 'undefined') {\n",
       "    var baseURL = require.toUrl('').split('/').slice(0, -2).join('/');\n",
       "} else {\n",
       "    var baseURL = JSON.parse(\n",
       "        document.getElementById('jupyter-config-data').innerHTML\n",
       "    ).baseUrl.slice(0, -1);\n",
       "}\n",
       "url = baseURL + url;\n",
       "fetch(url).then(function(res) {\n",
       "    if (res.status === 404) {\n",
       "        div.innerHTML = 'Install QIIME 2 Jupyter extension with:<br />' +\n",
       "                        '<code>jupyter serverextension enable --py qiime2' +\n",
       "                        ' --sys-prefix</code><br />then restart your server.' +\n",
       "                        '<br /><br />(Interactive output not available on ' +\n",
       "                        'static notebook viewer services like nbviewer.)';\n",
       "    } else if (res.status === 409) {\n",
       "        div.innerHTML = 'Visualization no longer in scope. Re-run this cell' +\n",
       "                        ' to see the visualization.';\n",
       "    } else if (res.ok) {\n",
       "        url = res.url;\n",
       "        div.innerHTML = '<iframe src=\\'' + url + '\\' style=\\'' +\n",
       "                        'width: 100%; height: 700px; border: 0;\\'>' +\n",
       "                        '</iframe><hr />Open in a: <a href=\\'' + url + '\\'' +\n",
       "                        ' target=\\'_blank\\'>new window</a>'\n",
       "    } else {\n",
       "        div.innerHTML = 'Something has gone wrong. Check notebook server for' +\n",
       "                        ' errors.';\n",
       "    }\n",
       "});\n",
       "})(this.parentElement, '/qiime2/redirect?location=/tmp/qiime2-archive-j7n3g7pc')\" src=\"data:image/gif;base64,R0lGODlhAQABAIAAAP///wAAACH5BAEAAAAALAAAAAABAAEAAAICRAEAOw==\" /></div>"
      ],
      "text/plain": [
       "<visualization: Visualization uuid: 4dfb4238-63df-47b8-afde-4cea32c5752e>"
      ]
     },
     "execution_count": 15,
     "metadata": {},
     "output_type": "execute_result"
    }
   ],
   "source": [
    "core_metrics.bray_curtis_emperor"
   ]
  },
  {
   "cell_type": "code",
   "execution_count": null,
   "metadata": {},
   "outputs": [],
   "source": []
  }
 ],
 "metadata": {
  "kernelspec": {
   "display_name": "Python 3",
   "language": "python",
   "name": "python3"
  },
  "language_info": {
   "codemirror_mode": {
    "name": "ipython",
    "version": 3
   },
   "file_extension": ".py",
   "mimetype": "text/x-python",
   "name": "python",
   "nbconvert_exporter": "python",
   "pygments_lexer": "ipython3",
   "version": "3.5.5"
  }
 },
 "nbformat": 4,
 "nbformat_minor": 2
}
