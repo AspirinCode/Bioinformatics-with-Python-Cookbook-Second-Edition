{
 "cells": [
  {
   "cell_type": "code",
   "execution_count": 1,
   "metadata": {},
   "outputs": [],
   "source": [
    "# ftp://ngs.sanger.ac.uk/production/ag1000g/phase1/AR3/variation/crosses/ar3/hdf5/ag1000g.crosses.phase1.ar3sites.3L.h5"
   ]
  },
  {
   "cell_type": "code",
   "execution_count": 24,
   "metadata": {},
   "outputs": [],
   "source": [
    "import random\n",
    "\n",
    "import matplotlib.pyplot as plt\n",
    "import h5py\n",
    "import pandas as pd\n",
    "\n",
    "%matplotlib inline"
   ]
  },
  {
   "cell_type": "code",
   "execution_count": 5,
   "metadata": {},
   "outputs": [],
   "source": [
    "num_sims = 100000\n",
    "num_ofs = 20"
   ]
  },
  {
   "cell_type": "code",
   "execution_count": 25,
   "metadata": {},
   "outputs": [
    {
     "name": "stdout",
     "output_type": "stream",
     "text": [
      "0\n"
     ]
    },
    {
     "data": {
      "image/png": "[encoded data removed]",
      "text/plain": [
       "<Figure size 432x288 with 1 Axes>"
      ]
     },
     "metadata": {},
     "output_type": "display_data"
    }
   ],
   "source": [
    "num_hets_AA_AT = []\n",
    "for sim in range(num_sims):\n",
    "    sim_hets = 0\n",
    "    for ofs in range(20):\n",
    "        sim_hets += 1 if random.choice([0, 1]) == 1 else 0\n",
    "    num_hets_AA_AT.append(sim_hets)\n",
    "plt.hist(num_hets_AA_AT, bins=range(20))\n",
    "print(len([num_hets for num_hets in num_hets_AA_AT if num_hets==20]))"
   ]
  },
  {
   "cell_type": "code",
   "execution_count": 26,
   "metadata": {},
   "outputs": [
    {
     "data": {
      "text/plain": [
       "<matplotlib.legend.Legend at 0x7f8f3b172ef0>"
      ]
     },
     "execution_count": 26,
     "metadata": {},
     "output_type": "execute_result"
    },
    {
     "data": {
      "image/png": "[encoded data removed]",
      "text/plain": [
       "<Figure size 432x288 with 1 Axes>"
      ]
     },
     "metadata": {},
     "output_type": "display_data"
    }
   ],
   "source": [
    "num_AAs_AT_AT = []\n",
    "num_hets_AT_AT = []\n",
    "for sim in range(num_sims):\n",
    "    sim_AAs = 0\n",
    "    sim_hets = 0\n",
    "    for ofs in range(20):\n",
    "        derived_cnt = sum(random.choices([0, 1], k=2))\n",
    "        sim_AAs += 1 if derived_cnt == 0 else 0\n",
    "        sim_hets += 1 if derived_cnt == 1 else 0\n",
    "    num_AAs_AT_AT.append(sim_AAs)\n",
    "    num_hets_AT_AT.append(sim_hets)\n",
    "plt.hist([num_hets_AT_AT, num_AAs_AT_AT], histtype='step', fill=False, bins=range(20), label=['het', 'AA'])\n",
    "plt.legend()"
   ]
  },
  {
   "cell_type": "code",
   "execution_count": 23,
   "metadata": {},
   "outputs": [
    {
     "name": "stdout",
     "output_type": "stream",
     "text": [
      "['cross-29-2' 'cross-36-9' 'cross-42-4' 'cross-46-9']\n",
      "          id function\n",
      "0   AD0231-C   parent\n",
      "1   AD0232-C   parent\n",
      "2   AD0234-C  progeny\n",
      "3   AD0235-C  progeny\n",
      "4   AD0236-C  progeny\n",
      "5   AD0237-C  progeny\n",
      "6   AD0238-C  progeny\n",
      "7   AD0239-C  progeny\n",
      "8   AD0240-C  progeny\n",
      "9   AD0241-C  progeny\n",
      "10  AD0242-C  progeny\n",
      "11  AD0243-C  progeny\n",
      "12  AD0244-C  progeny\n",
      "13  AD0245-C  progeny\n",
      "14  AD0246-C  progeny\n",
      "15  AD0247-C  progeny\n",
      "16  AD0248-C  progeny\n",
      "17  AD0249-C  progeny\n",
      "18  AD0250-C  progeny\n",
      "19  AD0251-C  progeny\n",
      "20  AD0252-C  progeny\n",
      "21  AD0253-C  progeny\n",
      "22\n"
     ]
    }
   ],
   "source": []
  },
  {
   "cell_type": "code",
   "execution_count": 29,
   "metadata": {},
   "outputs": [
    {
     "name": "stdout",
     "output_type": "stream",
     "text": [
      "[b'AD0231-C', b'AD0232-C', b'AD0234-C', b'AD0235-C', b'AD0236-C', b'AD0237-C', b'AD0238-C', b'AD0239-C', b'AD0240-C', b'AD0241-C', b'AD0242-C', b'AD0243-C', b'AD0244-C', b'AD0245-C', b'AD0246-C', b'AD0247-C', b'AD0248-C', b'AD0249-C', b'AD0250-C', b'AD0251-C', b'AD0252-C', b'AD0253-C', b'AD0254-C', b'AD0255-C', b'AD0259-C', b'AD0260-C', b'AD0261-C', b'AD0262-C', b'AD0263-C', b'AD0265-C', b'AD0266-C', b'AD0267-C', b'AD0268-C', b'AD0269-C', b'AD0270-C', b'AD0271-C', b'AD0272-C', b'AD0273-C', b'AD0274-C', b'AD0275-C', b'AD0276-C', b'AD0305-C', b'AD0306-C', b'AD0309-C', b'AD0310-C', b'AD0311-C', b'AD0312-C', b'AD0313-C', b'AD0314-C', b'AD0315-C', b'AD0316-C', b'AD0317-C', b'AD0318-C', b'AD0319-C', b'AD0320-C', b'AD0322-C', b'AD0323-C', b'AD0347-C', b'AD0348-C', b'AD0351-C', b'AD0352-C', b'AD0353-C', b'AD0354-C', b'AD0355-C', b'AD0356-C', b'AD0357-C', b'AD0358-C', b'AD0359-C', b'AD0360-C', b'AD0361-C', b'AD0362-C', b'AD0363-C', b'AD0364-C', b'AD0365-C', b'AD0366-C', b'AD0367-C', b'AD0368-C', b'AD0369-C', b'AD0370-C', b'AD0438-C']\n"
     ]
    }
   ],
   "source": [
    "h5_3L = h5py.File('ag1000g.crosses.phase1.ar3sites.3L.h5', 'r')\n",
    "samples = h5_3L['/3L/samples']\n",
    "\n",
    "print(list(samples))"
   ]
  },
  {
   "cell_type": "code",
   "execution_count": 30,
   "metadata": {},
   "outputs": [
    {
     "name": "stdout",
     "output_type": "stream",
     "text": [
      "['cross-29-2' 'cross-36-9' 'cross-42-4' 'cross-46-9']\n",
      "          id function\n",
      "0   AD0231-C   parent\n",
      "1   AD0232-C   parent\n",
      "2   AD0234-C  progeny\n",
      "3   AD0235-C  progeny\n",
      "4   AD0236-C  progeny\n",
      "5   AD0237-C  progeny\n",
      "6   AD0238-C  progeny\n",
      "7   AD0239-C  progeny\n",
      "8   AD0240-C  progeny\n",
      "9   AD0241-C  progeny\n",
      "10  AD0242-C  progeny\n",
      "11  AD0243-C  progeny\n",
      "12  AD0244-C  progeny\n",
      "13  AD0245-C  progeny\n",
      "14  AD0246-C  progeny\n",
      "15  AD0247-C  progeny\n",
      "16  AD0248-C  progeny\n",
      "17  AD0249-C  progeny\n",
      "18  AD0250-C  progeny\n",
      "19  AD0251-C  progeny\n",
      "20  AD0252-C  progeny\n",
      "21  AD0253-C  progeny\n",
      "22\n"
     ]
    }
   ],
   "source": [
    "samples = pd.read_csv('samples.tsv', sep='\\t')\n",
    "print(samples['cross'].unique())\n",
    "print(samples[samples['cross'] == 'cross-29-2'][['id', 'function']])\n",
    "print(len(samples[samples['cross'] == 'cross-29-2']))"
   ]
  },
  {
   "cell_type": "code",
   "execution_count": 32,
   "metadata": {},
   "outputs": [],
   "source": [
    "calldata_genotype = h5_3L['/3L/calldata/genotype']\n",
    "positions = h5_3L['/3L/variants/POS']\n",
    "alt_alleles = h5_3L['/3L/variants/ALT']\n",
    "is_snp = h5_3L['/3L/variants/is_snp']"
   ]
  },
  {
   "cell_type": "code",
   "execution_count": null,
   "metadata": {},
   "outputs": [],
   "source": []
  }
 ],
 "metadata": {
  "kernelspec": {
   "display_name": "Python 3",
   "language": "python",
   "name": "python3"
  },
  "language_info": {
   "codemirror_mode": {
    "name": "ipython",
    "version": 3
   },
   "file_extension": ".py",
   "mimetype": "text/x-python",
   "name": "python",
   "nbconvert_exporter": "python",
   "pygments_lexer": "ipython3",
   "version": "3.6.5"
  }
 },
 "nbformat": 4,
 "nbformat_minor": 2
}
