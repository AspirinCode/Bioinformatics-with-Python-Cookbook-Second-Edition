{
 "cells": [
  {
   "cell_type": "code",
   "execution_count": 1,
   "metadata": {},
   "outputs": [],
   "source": [
    "# ftp://ngs.sanger.ac.uk/production/ag1000g/phase1/AR3/variation/crosses/ar3/hdf5/ag1000g.crosses.phase1.ar3sites.3L.h5\n",
    "# ftp://ngs.sanger.ac.uk/production/ag1000g/phase1/AR3/variation/crosses/ar3/hdf5/ag1000g.crosses.phase1.ar3sites.3R.h5\n"
   ]
  },
  {
   "cell_type": "code",
   "execution_count": 3,
   "metadata": {},
   "outputs": [],
   "source": [
    "import pickle\n",
    "import gzip\n",
    "import random\n",
    "\n",
    "import numpy as np\n",
    "import matplotlib.pyplot as plt\n",
    "import h5py\n",
    "import pandas as pd\n",
    "\n",
    "%matplotlib inline"
   ]
  },
  {
   "cell_type": "markdown",
   "metadata": {},
   "source": [
    "# Mendelian simulations"
   ]
  },
  {
   "cell_type": "code",
   "execution_count": 5,
   "metadata": {},
   "outputs": [],
   "source": [
    "num_sims = 100000\n",
    "num_ofs = 20"
   ]
  },
  {
   "cell_type": "code",
   "execution_count": 6,
   "metadata": {},
   "outputs": [
    {
     "name": "stdout",
     "output_type": "stream",
     "text": [
      "0\n"
     ]
    },
    {
     "data": {
      "image/png": "[encoded data removed]",
      "text/plain": [
       "<Figure size 1152x648 with 1 Axes>"
      ]
     },
     "metadata": {},
     "output_type": "display_data"
    }
   ],
   "source": [
    "num_hets_AA_AT = []\n",
    "for sim in range(num_sims):\n",
    "    sim_hets = 0\n",
    "    for ofs in range(20):\n",
    "        sim_hets += 1 if random.choice([0, 1]) == 1 else 0\n",
    "    num_hets_AA_AT.append(sim_hets)\n",
    "    \n",
    "fig, ax = plt.subplots(1,1, figsize=(16,9))\n",
    "ax.hist(num_hets_AA_AT, bins=range(20))\n",
    "print(len([num_hets for num_hets in num_hets_AA_AT if num_hets==20]))"
   ]
  },
  {
   "cell_type": "code",
   "execution_count": 7,
   "metadata": {},
   "outputs": [
    {
     "data": {
      "text/plain": [
       "<matplotlib.legend.Legend at 0x7f5ee31cab70>"
      ]
     },
     "execution_count": 7,
     "metadata": {},
     "output_type": "execute_result"
    },
    {
     "data": {
      "image/png": "[encoded data removed]",
      "text/plain": [
       "<Figure size 1152x648 with 1 Axes>"
      ]
     },
     "metadata": {},
     "output_type": "display_data"
    }
   ],
   "source": [
    "num_AAs_AT_AT = []\n",
    "num_hets_AT_AT = []\n",
    "for sim in range(num_sims):\n",
    "    sim_AAs = 0\n",
    "    sim_hets = 0\n",
    "    for ofs in range(20):\n",
    "        derived_cnt = sum(random.choices([0, 1], k=2))\n",
    "        sim_AAs += 1 if derived_cnt == 0 else 0\n",
    "        sim_hets += 1 if derived_cnt == 1 else 0\n",
    "    num_AAs_AT_AT.append(sim_AAs)\n",
    "    num_hets_AT_AT.append(sim_hets)\n",
    "fig, ax = plt.subplots(1,1, figsize=(16,9))\n",
    "ax.hist([num_hets_AT_AT, num_AAs_AT_AT], histtype='step', fill=False, bins=range(20), label=['het', 'AA'])\n",
    "plt.legend()"
   ]
  },
  {
   "cell_type": "markdown",
   "metadata": {},
   "source": [
    "# Data preparation"
   ]
  },
  {
   "cell_type": "code",
   "execution_count": 7,
   "metadata": {},
   "outputs": [
    {
     "name": "stdout",
     "output_type": "stream",
     "text": [
      "['AD0231-C', 'AD0232-C', 'AD0234-C', 'AD0235-C', 'AD0236-C', 'AD0237-C', 'AD0238-C', 'AD0239-C', 'AD0240-C', 'AD0241-C', 'AD0242-C', 'AD0243-C', 'AD0244-C', 'AD0245-C', 'AD0246-C', 'AD0247-C', 'AD0248-C', 'AD0249-C', 'AD0250-C', 'AD0251-C', 'AD0252-C', 'AD0253-C', 'AD0254-C', 'AD0255-C', 'AD0259-C', 'AD0260-C', 'AD0261-C', 'AD0262-C', 'AD0263-C', 'AD0265-C', 'AD0266-C', 'AD0267-C', 'AD0268-C', 'AD0269-C', 'AD0270-C', 'AD0271-C', 'AD0272-C', 'AD0273-C', 'AD0274-C', 'AD0275-C', 'AD0276-C', 'AD0305-C', 'AD0306-C', 'AD0309-C', 'AD0310-C', 'AD0311-C', 'AD0312-C', 'AD0313-C', 'AD0314-C', 'AD0315-C', 'AD0316-C', 'AD0317-C', 'AD0318-C', 'AD0319-C', 'AD0320-C', 'AD0322-C', 'AD0323-C', 'AD0347-C', 'AD0348-C', 'AD0351-C', 'AD0352-C', 'AD0353-C', 'AD0354-C', 'AD0355-C', 'AD0356-C', 'AD0357-C', 'AD0358-C', 'AD0359-C', 'AD0360-C', 'AD0361-C', 'AD0362-C', 'AD0363-C', 'AD0364-C', 'AD0365-C', 'AD0366-C', 'AD0367-C', 'AD0368-C', 'AD0369-C', 'AD0370-C', 'AD0438-C']\n"
     ]
    }
   ],
   "source": [
    "h5_3L = h5py.File('ag1000g.crosses.phase1.ar3sites.3L.h5', 'r')\n",
    "samples_hdf5 = list(map(lambda sample: sample.decode('utf-8'), h5_3L['/3L/samples']))\n",
    "print(samples_hdf5)\n",
    "\n",
    "calldata_genotype = h5_3L['/3L/calldata/genotype']\n",
    "\n",
    "MQ0 = h5_3L['/3L/variants/MQ0']\n",
    "QD = h5_3L['/3L/variants/QD']\n",
    "QUAL = h5_3L['/3L/variants/QUAL']\n",
    "FS = h5_3L['/3L/variants/FS']\n",
    "DP = h5_3L['/3L/variants/DP']\n",
    "HRun = h5_3L['/3L/variants/HRun']\n",
    "ReadPosRankSum = h5_3L['/3L/variants/ReadPosRankSum']\n",
    "my_features = {\n",
    "    'MQ0': MQ0,\n",
    "    'QD': QD,\n",
    "    'QUAL': QUAL,\n",
    "    'FS': FS,\n",
    "    'DP': DP,\n",
    "    'HRun': HRun,\n",
    "    'ReadPosRankSum': ReadPosRankSum\n",
    "}\n",
    "\n",
    "num_alleles = h5_3L['/3L/variants/num_alleles']\n",
    "is_snp = h5_3L['/3L/variants/is_snp']\n",
    "POS = h5_3L['/3L/variants/POS']\n"
   ]
  },
  {
   "cell_type": "code",
   "execution_count": 9,
   "metadata": {},
   "outputs": [
    {
     "name": "stdout",
     "output_type": "stream",
     "text": [
      "['cross-29-2' 'cross-36-9' 'cross-42-4' 'cross-46-9']\n",
      "          id function\n",
      "0   AD0231-C   parent\n",
      "1   AD0232-C   parent\n",
      "2   AD0234-C  progeny\n",
      "3   AD0235-C  progeny\n",
      "4   AD0236-C  progeny\n",
      "5   AD0237-C  progeny\n",
      "6   AD0238-C  progeny\n",
      "7   AD0239-C  progeny\n",
      "8   AD0240-C  progeny\n",
      "9   AD0241-C  progeny\n",
      "10  AD0242-C  progeny\n",
      "11  AD0243-C  progeny\n",
      "12  AD0244-C  progeny\n",
      "13  AD0245-C  progeny\n",
      "14  AD0246-C  progeny\n",
      "15  AD0247-C  progeny\n",
      "16  AD0248-C  progeny\n",
      "17  AD0249-C  progeny\n",
      "18  AD0250-C  progeny\n",
      "19  AD0251-C  progeny\n",
      "20  AD0252-C  progeny\n",
      "21  AD0253-C  progeny\n",
      "22\n"
     ]
    }
   ],
   "source": [
    "samples = pd.read_csv('samples.tsv', sep='\\t')\n",
    "print(samples['cross'].unique())\n",
    "print(samples[samples['cross'] == 'cross-29-2'][['id', 'function']])\n",
    "print(len(samples[samples['cross'] == 'cross-29-2']))"
   ]
  },
  {
   "cell_type": "code",
   "execution_count": 10,
   "metadata": {},
   "outputs": [],
   "source": [
    "#compute mendelian errors (biallelic)\n",
    "def compute_mendelian_errors(mother, father, offspring):\n",
    "    num_errors = 0\n",
    "    num_ofs_problems = 0\n",
    "    if len(mother.union(father)) == 1:\n",
    "        # Mother and father are homo and the same\n",
    "        for ofs in offspring:\n",
    "            if len(ofs) == 2:\n",
    "                # Offspring is het\n",
    "                num_errors += 1\n",
    "                num_ofs_problems += 1\n",
    "            elif len(ofs.intersection(mother)) == 0:\n",
    "                # Offspring is homo, but opposite from parents\n",
    "                num_errors += 2\n",
    "                num_ofs_problems += 1\n",
    "    elif len(mother) == 1 and len(father) == 1:\n",
    "        # Mother and father are homo and different\n",
    "        for ofs in offspring:\n",
    "            if len(ofs) == 1:\n",
    "                # Homo, should be het\n",
    "                num_errors += 1\n",
    "                num_ofs_problems += 1\n",
    "    elif len(mother) == 2 and len(father) == 2:\n",
    "        # Both are het, individual offspring can be anything\n",
    "        pass\n",
    "    else:\n",
    "        # One is het, the other is homo\n",
    "        homo = mother if len(mother) == 1 else father\n",
    "        for ofs in offspring:\n",
    "            if len(ofs) == 1 and ofs.intersection(homo):\n",
    "                # homo, but not including the allele from parent that is homo\n",
    "                num_errors += 1\n",
    "                num_ofs_problems += 1\n",
    "    return num_errors, num_ofs_problems"
   ]
  },
  {
   "cell_type": "code",
   "execution_count": 11,
   "metadata": {},
   "outputs": [],
   "source": [
    "def acceptable_position_to_genotype():\n",
    "    for i, genotype in enumerate(calldata_genotype):\n",
    "        if is_snp[i] and num_alleles[i] == 2:\n",
    "            if len(np.where(genotype == -1)[0]) > 1:\n",
    "                # Missing data\n",
    "                continue\n",
    "            yield i\n",
    "\n",
    "def acumulate(fun):\n",
    "    acumulator = {}\n",
    "    for res in fun():\n",
    "        if res is not None:\n",
    "            acumulator[res[0]] = res[1]\n",
    "    return acumulator"
   ]
  },
  {
   "cell_type": "code",
   "execution_count": 12,
   "metadata": {},
   "outputs": [],
   "source": [
    "def get_family_indexes(samples_hdf5, cross_pd):\n",
    "    offspring = []\n",
    "    for i, individual in cross_pd.T.iteritems():\n",
    "        index = samples_hdf5.index(individual.id)\n",
    "        if individual.function == 'parent':\n",
    "            if individual.sex == 'M':\n",
    "                father = index\n",
    "            else:\n",
    "                mother = index\n",
    "        else:\n",
    "            offspring.append(index)\n",
    "    return {'mother': mother, 'father': father, 'offspring': offspring}\n",
    "\n",
    "cross_pd = samples[samples['cross'] == 'cross-29-2']\n",
    "family_indexes = get_family_indexes(samples_hdf5, cross_pd)"
   ]
  },
  {
   "cell_type": "code",
   "execution_count": 14,
   "metadata": {},
   "outputs": [
    {
     "name": "stdout",
     "output_type": "stream",
     "text": [
      "2421115\n",
      "3096162\n",
      "3846533\n",
      "5302690\n",
      "6009332\n",
      "6665994\n",
      "7213924\n",
      "8307787\n",
      "8704574\n",
      "9157921\n",
      "10044890\n",
      "10441893\n",
      "10782114\n",
      "11480576\n",
      "12116288\n",
      "12944845\n",
      "13202384\n",
      "13450790\n",
      "13956615\n",
      "14187307\n",
      "14405595\n",
      "14699420\n",
      "14906103\n",
      "15858699\n",
      "16088023\n",
      "16362214\n",
      "16785061\n",
      "17422143\n",
      "17627792\n",
      "18509178\n",
      "18704624\n",
      "18904148\n",
      "19117221\n",
      "19333809\n",
      "19553484\n",
      "19755761\n",
      "19969942\n",
      "20178659\n",
      "20446009\n",
      "21076256\n",
      "21273645\n",
      "21674541\n",
      "22289048\n",
      "22467282\n",
      "23023517\n",
      "23275264\n",
      "23638929\n",
      "23874445\n",
      "24095034\n",
      "24291473\n",
      "24500102\n",
      "24743095\n",
      "25150745\n",
      "25747004\n",
      "25932067\n",
      "26109886\n",
      "26287473\n",
      "26477908\n",
      "26677007\n",
      "26885445\n",
      "27136205\n",
      "27330486\n",
      "28790677\n",
      "29160063\n",
      "29507338\n",
      "29671058\n",
      "29843141\n",
      "30202217\n",
      "30388109\n",
      "30587277\n",
      "30958807\n",
      "31150370\n",
      "31336742\n",
      "31528546\n",
      "31720254\n",
      "31895137\n",
      "32631438\n",
      "33445984\n",
      "33799034\n",
      "34001333\n",
      "34534402\n",
      "34744318\n",
      "35091909\n",
      "35284531\n",
      "35463884\n",
      "35668458\n",
      "35894145\n",
      "36097011\n",
      "36340198\n",
      "36613181\n",
      "36838309\n",
      "37920759\n",
      "38151197\n",
      "38600050\n",
      "38839024\n",
      "39030190\n",
      "39235743\n",
      "39438503\n",
      "39880257\n",
      "40073744\n",
      "40437316\n",
      "40613858\n",
      "40814391\n",
      "41010998\n",
      "41255445\n",
      "41477898\n",
      "41753173\n"
     ]
    }
   ],
   "source": [
    "mother_index = family_indexes['mother']\n",
    "father_index = family_indexes['father']\n",
    "offspring_indexes = family_indexes['offspring']\n",
    "all_errors = {}\n",
    "\n",
    "\n",
    "def get_mendelian_errors():\n",
    "    for i in acceptable_position_to_genotype():\n",
    "        genotype = calldata_genotype[i]\n",
    "        mother = set(genotype[mother_index])\n",
    "        father = set(genotype[father_index])\n",
    "        offspring = [set(genotype[ofs_index]) for ofs_index in offspring_indexes]\n",
    "        my_mendelian_errors = compute_mendelian_errors(mother, father, offspring)\n",
    "        yield POS[i], my_mendelian_errors\n",
    "        if i % 100000 == 0:\n",
    "            print(POS[i])\n",
    "        #if i > 100000:\n",
    "        #    break\n",
    "        #if mendelian_errors[0] > 0:\n",
    "        #    #print(POS[i], True, mother, father, offspring)\n",
    "        #    yield POS[i], my_mendelian_errors\n",
    "        #else:\n",
    "        #    yield None\n",
    "\n",
    "mendelian_errors = acumulate(get_mendelian_errors)"
   ]
  },
  {
   "cell_type": "code",
   "execution_count": 17,
   "metadata": {},
   "outputs": [],
   "source": [
    "pickle.dump(mendelian_errors, gzip.open('mendelian_errors.pickle.gz', 'wb'))"
   ]
  },
  {
   "cell_type": "code",
   "execution_count": 8,
   "metadata": {},
   "outputs": [
    {
     "name": "stdout",
     "output_type": "stream",
     "text": [
      "DP\n",
      "0 15\n",
      "100000 1355065\n",
      "200000 2434614\n",
      "300000 3340606\n",
      "400000 4293673\n",
      "500000 5340223\n",
      "600000 6181141\n",
      "700000 6935427\n",
      "800000 7909437\n",
      "900000 8541217\n",
      "1000000 9158354\n",
      "1100000 9813977\n",
      "1200000 10468873\n",
      "1300000 10973653\n",
      "1400000 11486215\n",
      "1500000 11960025\n",
      "1600000 12348520\n",
      "1700000 12724809\n",
      "1800000 13092669\n",
      "1900000 13454030\n",
      "2000000 13862001\n",
      "2100000 14240424\n",
      "2200000 14637144\n",
      "2300000 14949696\n",
      "2400000 15270956\n",
      "2500000 15672270\n",
      "2600000 16060970\n",
      "2700000 16484921\n",
      "2800000 16782864\n",
      "2900000 17079557\n",
      "3000000 17367171\n",
      "3100000 17664353\n",
      "3200000 18033939\n",
      "3300000 18355205\n",
      "3400000 18627519\n",
      "3500000 18937292\n",
      "3600000 19246067\n",
      "3700000 19555219\n",
      "3800000 19850646\n",
      "3900000 20172874\n",
      "4000000 20572570\n",
      "4100000 20895799\n",
      "4200000 21216042\n",
      "4300000 21518250\n",
      "4400000 21829530\n",
      "4500000 22174783\n",
      "4600000 22470600\n",
      "4700000 22758168\n",
      "4800000 23044381\n",
      "4900000 23591695\n",
      "5000000 23953885\n",
      "5100000 24263773\n",
      "5200000 24677567\n",
      "5300000 24997478\n",
      "5400000 25290291\n"
     ]
    },
    {
     "ename": "KeyboardInterrupt",
     "evalue": "",
     "output_type": "error",
     "traceback": [
      "\u001b[0;31m---------------------------------------------------------------------------\u001b[0m",
      "\u001b[0;31mKeyboardInterrupt\u001b[0m                         Traceback (most recent call last)",
      "\u001b[0;32m<ipython-input-8-ff6a52f8b07d>\u001b[0m in \u001b[0;36m<module>\u001b[0;34m\u001b[0m\n\u001b[1;32m     10\u001b[0m             \u001b[0mcurrent_hdf_row\u001b[0m \u001b[0;34m+=\u001b[0m\u001b[0;36m1\u001b[0m\u001b[0;34m\u001b[0m\u001b[0m\n\u001b[1;32m     11\u001b[0m         \u001b[0;31m#try:\u001b[0m\u001b[0;34m\u001b[0m\u001b[0;34m\u001b[0m\u001b[0m\n\u001b[0;32m---> 12\u001b[0;31m             \u001b[0mfeature_fit\u001b[0m\u001b[0;34m[\u001b[0m\u001b[0mrow\u001b[0m\u001b[0;34m,\u001b[0m \u001b[0mcolumn\u001b[0m\u001b[0;34m]\u001b[0m \u001b[0;34m=\u001b[0m \u001b[0mmy_features\u001b[0m\u001b[0;34m[\u001b[0m\u001b[0mfeature\u001b[0m\u001b[0;34m]\u001b[0m\u001b[0;34m[\u001b[0m\u001b[0mcurrent_hdf_row\u001b[0m\u001b[0;34m]\u001b[0m\u001b[0;34m\u001b[0m\u001b[0m\n\u001b[0m\u001b[1;32m     13\u001b[0m         \u001b[0;31m#except:\u001b[0m\u001b[0;34m\u001b[0m\u001b[0;34m\u001b[0m\u001b[0m\n\u001b[1;32m     14\u001b[0m         \u001b[0;31m#    print(row, genomic_position, feature)\u001b[0m\u001b[0;34m\u001b[0m\u001b[0;34m\u001b[0m\u001b[0m\n",
      "\u001b[0;32mh5py/_objects.pyx\u001b[0m in \u001b[0;36mh5py._objects.with_phil.wrapper\u001b[0;34m()\u001b[0m\n",
      "\u001b[0;32mh5py/_objects.pyx\u001b[0m in \u001b[0;36mh5py._objects.with_phil.wrapper\u001b[0;34m()\u001b[0m\n",
      "\u001b[0;32m~/anaconda2/envs/python3/lib/python3.6/site-packages/h5py/_hl/dataset.py\u001b[0m in \u001b[0;36m__getitem__\u001b[0;34m(self, args)\u001b[0m\n\u001b[1;32m    474\u001b[0m \u001b[0;34m\u001b[0m\u001b[0m\n\u001b[1;32m    475\u001b[0m         \u001b[0;31m# Perform the dataspace selection.\u001b[0m\u001b[0;34m\u001b[0m\u001b[0;34m\u001b[0m\u001b[0m\n\u001b[0;32m--> 476\u001b[0;31m         \u001b[0mselection\u001b[0m \u001b[0;34m=\u001b[0m \u001b[0msel\u001b[0m\u001b[0;34m.\u001b[0m\u001b[0mselect\u001b[0m\u001b[0;34m(\u001b[0m\u001b[0mself\u001b[0m\u001b[0;34m.\u001b[0m\u001b[0mshape\u001b[0m\u001b[0;34m,\u001b[0m \u001b[0margs\u001b[0m\u001b[0;34m,\u001b[0m \u001b[0mdsid\u001b[0m\u001b[0;34m=\u001b[0m\u001b[0mself\u001b[0m\u001b[0;34m.\u001b[0m\u001b[0mid\u001b[0m\u001b[0;34m)\u001b[0m\u001b[0;34m\u001b[0m\u001b[0m\n\u001b[0m\u001b[1;32m    477\u001b[0m \u001b[0;34m\u001b[0m\u001b[0m\n\u001b[1;32m    478\u001b[0m         \u001b[0;32mif\u001b[0m \u001b[0mselection\u001b[0m\u001b[0;34m.\u001b[0m\u001b[0mnselect\u001b[0m \u001b[0;34m==\u001b[0m \u001b[0;36m0\u001b[0m\u001b[0;34m:\u001b[0m\u001b[0;34m\u001b[0m\u001b[0m\n",
      "\u001b[0;32mh5py/_objects.pyx\u001b[0m in \u001b[0;36mh5py._objects.with_phil.wrapper\u001b[0;34m()\u001b[0m\n",
      "\u001b[0;32mh5py/_objects.pyx\u001b[0m in \u001b[0;36mh5py._objects.with_phil.wrapper\u001b[0;34m()\u001b[0m\n",
      "\u001b[0;32m~/anaconda2/envs/python3/lib/python3.6/site-packages/h5py/_hl/dataset.py\u001b[0m in \u001b[0;36mshape\u001b[0;34m(self)\u001b[0m\n\u001b[1;32m    223\u001b[0m     \u001b[0;32mdef\u001b[0m \u001b[0mshape\u001b[0m\u001b[0;34m(\u001b[0m\u001b[0mself\u001b[0m\u001b[0;34m)\u001b[0m\u001b[0;34m:\u001b[0m\u001b[0;34m\u001b[0m\u001b[0m\n\u001b[1;32m    224\u001b[0m         \u001b[0;34m\"\"\"Numpy-style shape tuple giving dataset dimensions\"\"\"\u001b[0m\u001b[0;34m\u001b[0m\u001b[0m\n\u001b[0;32m--> 225\u001b[0;31m         \u001b[0;32mreturn\u001b[0m \u001b[0mself\u001b[0m\u001b[0;34m.\u001b[0m\u001b[0mid\u001b[0m\u001b[0;34m.\u001b[0m\u001b[0mshape\u001b[0m\u001b[0;34m\u001b[0m\u001b[0m\n\u001b[0m\u001b[1;32m    226\u001b[0m     \u001b[0;34m@\u001b[0m\u001b[0mshape\u001b[0m\u001b[0;34m.\u001b[0m\u001b[0msetter\u001b[0m\u001b[0;34m\u001b[0m\u001b[0m\n\u001b[1;32m    227\u001b[0m     \u001b[0;34m@\u001b[0m\u001b[0mwith_phil\u001b[0m\u001b[0;34m\u001b[0m\u001b[0m\n",
      "\u001b[0;31mKeyboardInterrupt\u001b[0m: "
     ]
    }
   ],
   "source": [
    "ordered_positions = sorted(mendelian_errors.keys())  # Not strictly needed\n",
    "ordered_features = sorted(my_features.keys())\n",
    "feature_fit = np.empty((len(ordered_positions), len(my_features) + 1), dtype=float)\n",
    "current_hdf_row = 0\n",
    "for column, feature in enumerate(ordered_features):  # 'Strange' order\n",
    "    print(feature)\n",
    "    for row, genomic_position in enumerate(ordered_positions):\n",
    "        if row % 100000 == 0: print(row, POS[current_hdf_row])\n",
    "        while POS[current_hdf_row] < genomic_position:\n",
    "            current_hdf_row +=1\n",
    "        #try:\n",
    "            feature_fit[row, column] = my_features[feature][current_hdf_row]\n",
    "        #except:\n",
    "        #    print(row, genomic_position, feature)\n",
    "        #    raise \"\"\n",
    "    feature_fit[row, len(ordered_features)] = 1 if mendelian_errors[current_hdf_row][0] > 0 else 0"
   ]
  },
  {
   "cell_type": "code",
   "execution_count": null,
   "metadata": {},
   "outputs": [],
   "source": [
    "np.save(gzip.open('feature_fit.npy.gz', 'wb'), feature_fit, allow_pickle=False, fix_imports=False)\n",
    "pickle.dump(ordered_features, open('ordered_features', 'wb'))"
   ]
  },
  {
   "cell_type": "code",
   "execution_count": null,
   "metadata": {},
   "outputs": [],
   "source": []
  }
 ],
 "metadata": {
  "kernelspec": {
   "display_name": "Python 3",
   "language": "python",
   "name": "python3"
  },
  "language_info": {
   "codemirror_mode": {
    "name": "ipython",
    "version": 3
   },
   "file_extension": ".py",
   "mimetype": "text/x-python",
   "name": "python",
   "nbconvert_exporter": "python",
   "pygments_lexer": "ipython3",
   "version": "3.6.6"
  }
 },
 "nbformat": 4,
 "nbformat_minor": 2
}
