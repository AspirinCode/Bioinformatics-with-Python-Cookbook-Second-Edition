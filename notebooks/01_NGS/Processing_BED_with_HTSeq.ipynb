{
 "cells": [
  {
   "cell_type": "code",
   "execution_count": 1,
   "metadata": {},
   "outputs": [],
   "source": [
    "from collections import defaultdict\n",
    "import re\n",
    "import HTSeq"
   ]
  },
  {
   "cell_type": "code",
   "execution_count": 2,
   "metadata": {},
   "outputs": [],
   "source": [
    "lct_bed = HTSeq.BED_Reader('LCT.bed')"
   ]
  },
  {
   "cell_type": "code",
   "execution_count": 3,
   "metadata": {},
   "outputs": [
    {
     "name": "stdout",
     "output_type": "stream",
     "text": [
      "defaultdict(<class 'int'>, {'ENSE': 27, 'NM': 17, 'CCDS': 17})\n"
     ]
    }
   ],
   "source": [
    "feature_types = defaultdict(int)\n",
    "\n",
    "for rec in lct_bed:\n",
    "    last_rec = rec\n",
    "    feature_types[re.search('([A-Z]+)', rec.name).group(0)] += 1\n",
    "\n",
    "print(feature_types)\n",
    "\n",
    "#Code specific to this dataset, document"
   ]
  },
  {
   "cell_type": "code",
   "execution_count": 7,
   "metadata": {},
   "outputs": [
    {
     "name": "stdout",
     "output_type": "stream",
     "text": [
      "<GenomicFeature: BED line 'CCDS2178.11' at 2: 135788543 -> 135788322 (strand '-')>\n",
      "CCDS2178.11\n",
      "<class 'HTSeq.GenomicFeature'>\n",
      "2:[135788323,135788544)/-\n",
      "<class 'HTSeq._HTSeq.GenomicInterval'>\n"
     ]
    }
   ],
   "source": [
    "print(last_rec)\n",
    "print(last_rec.name)\n",
    "print(type(last_rec))\n",
    "interval = last_rec.iv\n",
    "print(interval)\n",
    "print(type(interval))"
   ]
  },
  {
   "cell_type": "code",
   "execution_count": 19,
   "metadata": {},
   "outputs": [
    {
     "name": "stdout",
     "output_type": "stream",
     "text": [
      "2 135788323 135788544\n",
      "-\n",
      "221\n",
      "135788543\n",
      "2:135788323/-\n",
      "<class 'HTSeq._HTSeq.GenomicPosition'>\n"
     ]
    }
   ],
   "source": [
    "print(interval.chrom, interval.start, interval.end)\n",
    "print(interval.strand)\n",
    "print(interval.length)\n",
    "print(interval.start_d)\n",
    "print(interval.start_as_pos)\n",
    "print(type(interval.start_as_pos))\n",
    "\n",
    "#talk about overlaps\n"
   ]
  },
  {
   "cell_type": "code",
   "execution_count": null,
   "metadata": {},
   "outputs": [],
   "source": []
  }
 ],
 "metadata": {
  "kernelspec": {
   "display_name": "Python 3",
   "language": "python",
   "name": "python3"
  },
  "language_info": {
   "codemirror_mode": {
    "name": "ipython",
    "version": 3
   },
   "file_extension": ".py",
   "mimetype": "text/x-python",
   "name": "python",
   "nbconvert_exporter": "python",
   "pygments_lexer": "ipython3",
   "version": "3.6.4"
  }
 },
 "nbformat": 4,
 "nbformat_minor": 2
}
